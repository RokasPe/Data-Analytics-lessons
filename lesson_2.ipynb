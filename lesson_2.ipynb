{
 "cells": [
  {
   "attachments": {},
   "cell_type": "markdown",
   "metadata": {},
   "source": [
    "## String"
   ]
  },
  {
   "cell_type": "code",
   "execution_count": null,
   "metadata": {},
   "outputs": [],
   "source": [
    "name = 'Darius'"
   ]
  },
  {
   "cell_type": "code",
   "execution_count": 2,
   "metadata": {},
   "outputs": [
    {
     "name": "stdout",
     "output_type": "stream",
     "text": [
      "True\n",
      "False\n",
      "1972\n"
     ]
    }
   ],
   "source": [
    "print('1972'.isdigit())\n",
    "print('1972 '.isdigit())\n",
    "print(( '  1972  '.strip()))"
   ]
  },
  {
   "attachments": {},
   "cell_type": "markdown",
   "metadata": {},
   "source": [
    "## String formatting - f string"
   ]
  },
  {
   "cell_type": "code",
   "execution_count": 6,
   "metadata": {},
   "outputs": [
    {
     "name": "stdout",
     "output_type": "stream",
     "text": [
      "Darius Grigaliunas, nice to meet you! Your number is 42\n",
      "Darius Grigaliunas\n",
      "Darius Grigaliunas, nice to meet you! Your number is 42\n"
     ]
    }
   ],
   "source": [
    "name = 'Darius'\n",
    "surname = 'Grigaliunas'\n",
    "number = 42\n",
    "\n",
    "print( name + ' ' + surname + ', nice to meet you! Your number is ' + str(number))\n",
    "\n",
    "print (f'{name} {surname}')\n",
    "print(f'{name} {surname}, nice to meet you! Your number is {number}')"
   ]
  },
  {
   "cell_type": "code",
   "execution_count": 7,
   "metadata": {},
   "outputs": [
    {
     "name": "stdout",
     "output_type": "stream",
     "text": [
      "Rokas Perveneckas\n"
     ]
    }
   ],
   "source": [
    "name = 'Rokas'\n",
    "surname = \"Perveneckas\"\n",
    "print(f'{name} {surname}')\n"
   ]
  },
  {
   "cell_type": "code",
   "execution_count": 19,
   "metadata": {},
   "outputs": [
    {
     "name": "stdout",
     "output_type": "stream",
     "text": [
      "PYTHON MAKES ME REALLY REALLY HAPPY!\n",
      "PyThOn makes me really really happy!\n"
     ]
    }
   ],
   "source": [
    "text_1 = 'Python makes me really really happy!'\n",
    "\n",
    "print(text_1.upper())\n",
    "print(text_1.replace('Python', 'PyThOn'))"
   ]
  },
  {
   "cell_type": "code",
   "execution_count": 21,
   "metadata": {},
   "outputs": [
    {
     "name": "stdout",
     "output_type": "stream",
     "text": [
      "18\n",
      "5\n",
      "happy\n",
      "h\n",
      "24\n",
      "2\n",
      "to\n",
      "40\n"
     ]
    }
   ],
   "source": [
    "text = 'Hello World, I am happy to learn Python!'\n",
    "word_to_find = 'happy'\n",
    "\n",
    "print(text.index('happy'))\n",
    "print(len('happy'))\n",
    "print(text[18:23])\n",
    "\n",
    "\n",
    "print(text[text.find(word_to_find)])\n",
    "\n",
    "print(text.index('to'))\n",
    "print(len('to'))\n",
    "print(text[24:26])\n",
    "\n",
    "print(len(text))"
   ]
  },
  {
   "attachments": {},
   "cell_type": "markdown",
   "metadata": {},
   "source": [
    "# Numbers"
   ]
  },
  {
   "cell_type": "code",
   "execution_count": 23,
   "metadata": {},
   "outputs": [
    {
     "name": "stdout",
     "output_type": "stream",
     "text": [
      "<class 'int'>\n",
      "<class 'float'>\n",
      "<class 'float'>\n"
     ]
    }
   ],
   "source": [
    "int_1 = 1\n",
    "float_1 = 1.0\n",
    "float_2 = 1.\n",
    "\n",
    "\n",
    "print(type(int_1))\n",
    "print(type(float_1))\n",
    "print(type(float_2))\n"
   ]
  },
  {
   "attachments": {},
   "cell_type": "markdown",
   "metadata": {},
   "source": [
    "# operations\n"
   ]
  },
  {
   "cell_type": "code",
   "execution_count": 27,
   "metadata": {},
   "outputs": [
    {
     "name": "stdout",
     "output_type": "stream",
     "text": [
      "15\n",
      "-5\n",
      "50\n",
      "0.5\n",
      "4\n",
      "8\n",
      "floor division\n",
      "1\n",
      "modulus division\n",
      "5\n"
     ]
    }
   ],
   "source": [
    "print( 5 + 10 )\n",
    "print( 5 - 10 )\n",
    "print( 5 * 10 )\n",
    "print( 5 / 10 )\n",
    "\n",
    "print( 2 ** 2 ) # to the power of\n",
    "print( 2 ** 3 )\n",
    "\n",
    "print('floor division')\n",
    "print( 15 // 10 ) # floor division / full value\n",
    "\n",
    "print('modulus division')\n",
    "print(15 % 10)\n",
    "\n"
   ]
  },
  {
   "cell_type": "code",
   "execution_count": 31,
   "metadata": {},
   "outputs": [
    {
     "name": "stdout",
     "output_type": "stream",
     "text": [
      "9.4\n"
     ]
    }
   ],
   "source": [
    "my_sum = 0\n",
    "\n",
    "\n",
    "my_sum += 5.4\n",
    "my_sum += 3.0\n",
    "my_sum += 1\n",
    "\n",
    "print(my_sum)\n",
    "\n"
   ]
  },
  {
   "cell_type": "code",
   "execution_count": 36,
   "metadata": {},
   "outputs": [
    {
     "name": "stdout",
     "output_type": "stream",
     "text": [
      "3\n",
      "-1\n",
      "2\n",
      "1\n",
      "0.5\n"
     ]
    }
   ],
   "source": [
    "n1 = 1\n",
    "n2 = 2\n",
    "\n",
    "print(n1 + n2)\n",
    "print(n1 - n2)\n",
    "print(n1 * n2)\n",
    "print(n1 % n2)\n",
    "print(n1 / n2)\n"
   ]
  },
  {
   "cell_type": "code",
   "execution_count": 37,
   "metadata": {},
   "outputs": [
    {
     "name": "stdout",
     "output_type": "stream",
     "text": [
      "3.0\n",
      "-1.0\n",
      "2.0\n",
      "1.0\n",
      "0.5\n"
     ]
    }
   ],
   "source": [
    "f1 = 1.\n",
    "f2= 2. \n",
    "\n",
    "print(f1 + f2)\n",
    "print(f1 - f2)\n",
    "print(f1 * f2)\n",
    "print(f1 % f2)\n",
    "print(f1 / f2)"
   ]
  },
  {
   "cell_type": "code",
   "execution_count": 54,
   "metadata": {},
   "outputs": [
    {
     "name": "stdout",
     "output_type": "stream",
     "text": [
      "The distance to the sun is 390.625 times greater than the distance to the moon\n",
      "It would take us 2560 hours\n",
      "It would take us 153600.0 minutes\n",
      "It would take us 9216000.0 seconds\n",
      "It would take us 106.66666666666667 days\n",
      "It would take us 3.555555555555556 months\n",
      "It would take us 0.29223744292237447 years\n"
     ]
    }
   ],
   "source": [
    "distance1 = 384_000\n",
    "distance2= 150_000_000\n",
    "\n",
    "print(f'The distance to the sun is {distance2/distance1} times greater than the distance to the moon')\n",
    "\n",
    "speed = 150\n",
    "\n",
    "print(f'It would take us {int(distance1/speed)} hours')\n",
    "print(f'It would take us {distance1/speed*60} minutes')\n",
    "print(f'It would take us {distance1/speed*60*60} seconds')\n",
    "print(f'It would take us {distance1/speed/24} days')\n",
    "print(f'It would take us {distance1/speed/24/30} months')\n",
    "print(f'It would take us {distance1/speed/24/365} years')"
   ]
  },
  {
   "cell_type": "code",
   "execution_count": 56,
   "metadata": {},
   "outputs": [
    {
     "name": "stdout",
     "output_type": "stream",
     "text": [
      "8776 days have passed from my birthday\n"
     ]
    }
   ],
   "source": [
    "from datetime import date\n",
    "\n",
    "today = date.today()\n",
    "birthday = date(1999, 2, 13)\n",
    "difference = today - birthday\n",
    "\n",
    "print(f'{difference.days} days have passed from my birthday')"
   ]
  },
  {
   "cell_type": "code",
   "execution_count": 61,
   "metadata": {},
   "outputs": [
    {
     "name": "stdout",
     "output_type": "stream",
     "text": [
      "True\n",
      "False\n",
      "False\n",
      "True\n"
     ]
    }
   ],
   "source": [
    "text = 'Hello World'\n",
    "bool_1 = 'd' in text\n",
    "print (bool_1)\n",
    "\n",
    "print('D' in text)\n",
    "print('h' in text)\n",
    "print('h' in text.lower())"
   ]
  },
  {
   "cell_type": "code",
   "execution_count": 63,
   "metadata": {},
   "outputs": [
    {
     "name": "stdout",
     "output_type": "stream",
     "text": [
      "False\n",
      "True\n",
      "False\n"
     ]
    }
   ],
   "source": [
    "print( not True)\n",
    "print( not False)\n",
    "print( not not False)"
   ]
  },
  {
   "attachments": {},
   "cell_type": "markdown",
   "metadata": {},
   "source": [
    "# and, or"
   ]
  },
  {
   "cell_type": "code",
   "execution_count": 66,
   "metadata": {},
   "outputs": [
    {
     "name": "stdout",
     "output_type": "stream",
     "text": [
      "True\n",
      "False\n"
     ]
    }
   ],
   "source": [
    "a = 2\n",
    "b = 5\n",
    "c = -10\n",
    "\n",
    "print( a < b and b > c )\n",
    "print( a > b and b > c )"
   ]
  },
  {
   "cell_type": "code",
   "execution_count": 74,
   "metadata": {},
   "outputs": [
    {
     "name": "stdout",
     "output_type": "stream",
     "text": [
      "True\n",
      "True\n",
      "True\n",
      "True\n",
      "True\n",
      "False\n",
      "False\n",
      "False\n",
      "False\n",
      "False\n"
     ]
    }
   ],
   "source": [
    "print( 10 > 5)\n",
    "print('A' in 'ABC')\n",
    "print(True)\n",
    "print(not False)\n",
    "print(bool('1'))\n",
    "\n",
    "\n",
    "\n",
    "print( 10 < 5)\n",
    "print('A' in 'B')\n",
    "print(False)\n",
    "print(not True)\n",
    "print(bool(0))"
   ]
  },
  {
   "cell_type": "code",
   "execution_count": 81,
   "metadata": {},
   "outputs": [
    {
     "name": "stdout",
     "output_type": "stream",
     "text": [
      "['Vilnius', 'Kaunas', 'London']\n",
      "<class 'list'>\n",
      "Kaunas\n",
      "<class 'str'>\n",
      "['Kaunas', 'London']\n",
      "['Vilnius', 'Kaunas']\n",
      "7\n"
     ]
    }
   ],
   "source": [
    "cities = ['Vilnius', 'Kaunas', 'London']\n",
    "\n",
    "print( cities )\n",
    "print( type(cities) )\n",
    "print( cities [1] )\n",
    "print( type(cities[1]) )\n",
    "\n",
    "print( cities[1:] )\n",
    "print( cities[:2] )\n",
    "\n",
    "numbers = [1, 654, 7, 6987, 7, '87', False]\n",
    "print(len(numbers))"
   ]
  }
 ],
 "metadata": {
  "kernelspec": {
   "display_name": "Python 3",
   "language": "python",
   "name": "python3"
  },
  "language_info": {
   "codemirror_mode": {
    "name": "ipython",
    "version": 3
   },
   "file_extension": ".py",
   "mimetype": "text/x-python",
   "name": "python",
   "nbconvert_exporter": "python",
   "pygments_lexer": "ipython3",
   "version": "3.10.4"
  },
  "orig_nbformat": 4,
  "vscode": {
   "interpreter": {
    "hash": "2aa6b29bd0df13d6c505b7d0ef75ff930ae2ba37db3b689bb404b082b4d5332c"
   }
  }
 },
 "nbformat": 4,
 "nbformat_minor": 2
}
