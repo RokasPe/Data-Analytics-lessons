{
 "cells": [
  {
   "attachments": {},
   "cell_type": "markdown",
   "metadata": {},
   "source": [
    "# If Statement"
   ]
  },
  {
   "cell_type": "code",
   "execution_count": 2,
   "metadata": {},
   "outputs": [
    {
     "name": "stdout",
     "output_type": "stream",
     "text": [
      "19\n",
      "You are above 18 years old\n"
     ]
    }
   ],
   "source": [
    "age = int ( input ( 'Enter your age:' ) )\n",
    "print ( age )\n",
    "\n",
    "if age >= 18:\n",
    "    print (f'You are above 18 years old' )"
   ]
  },
  {
   "cell_type": "code",
   "execution_count": 3,
   "metadata": {},
   "outputs": [
    {
     "name": "stdout",
     "output_type": "stream",
     "text": [
      "15\n",
      "You are under 18 years old\n"
     ]
    }
   ],
   "source": [
    "age = int ( input ( 'Enter your age:' ) )\n",
    "print ( age )\n",
    "\n",
    "if age >= 18:\n",
    "    print ( f'You are above 18 years old' )\n",
    "else:\n",
    "    print ( f'You are under 18 years old' )"
   ]
  },
  {
   "cell_type": "code",
   "execution_count": 5,
   "metadata": {},
   "outputs": [
    {
     "name": "stdout",
     "output_type": "stream",
     "text": [
      "13\n",
      "You are between 12 and 18 years old\n"
     ]
    }
   ],
   "source": [
    "age = int ( input ( 'Enter your age:' ) )\n",
    "print ( age )\n",
    "\n",
    "if age >= 18:\n",
    "    print ( 'You are above 18 years old' )\n",
    "elif age >= 12:\n",
    "    print ( 'You are between 12 and 18 years old' )\n",
    "else:\n",
    "    print ( 'You are under 18 years old' )"
   ]
  },
  {
   "cell_type": "code",
   "execution_count": 6,
   "metadata": {},
   "outputs": [
    {
     "name": "stdout",
     "output_type": "stream",
     "text": [
      "9\n",
      "You are between 8 and 12 years old\n"
     ]
    }
   ],
   "source": [
    "age = int ( input ( 'Enter your age:' ) )\n",
    "print ( age )\n",
    "\n",
    "if age >= 18:\n",
    "    print ( 'You are above 18 years old' )\n",
    "elif age >= 12:\n",
    "    print ( 'You are between 12 and 18 years old' )\n",
    "elif age >= 8:\n",
    "    print ( 'You are between 8 and 12 years old' )\n",
    "else:\n",
    "    print ( 'You are under 18 years old' )"
   ]
  },
  {
   "cell_type": "code",
   "execution_count": 7,
   "metadata": {},
   "outputs": [
    {
     "name": "stdout",
     "output_type": "stream",
     "text": [
      "93\n",
      "93 is dividable by 3\n"
     ]
    }
   ],
   "source": [
    "number = int( input ( 'Enter a number' ) )\n",
    "print (number)\n",
    "\n",
    "if number % 3 == 0:\n",
    "    print(f'{number} is dividable by 3')\n",
    "else:\n",
    "    print(f'{number} is not dividable by 4')"
   ]
  },
  {
   "cell_type": "code",
   "execution_count": 15,
   "metadata": {},
   "outputs": [
    {
     "name": "stdout",
     "output_type": "stream",
     "text": [
      "3\n",
      "6\n",
      "9\n",
      "12\n",
      "15\n",
      "18\n",
      "New current amount is 2\n",
      "New current amount is 6\n",
      "New current amount is 12\n",
      "New current amount is 20\n",
      "New current amount is 30\n",
      "New current amount is 42\n",
      "New current amount is 56\n",
      "New current amount is 72\n",
      "New current amount is 90\n",
      "New current amount is 110\n",
      "New current amount is 132\n",
      "New current amount is 156\n",
      "New current amount is 182\n",
      "New current amount is 210\n",
      "New current amount is 240\n",
      "New current amount is 272\n",
      "New current amount is 306\n",
      "New current amount is 342\n",
      "New current amount is 380\n",
      "New current amount is 420\n",
      "New current amount is 462\n",
      "New current amount is 506\n",
      "New current amount is 552\n",
      "New current amount is 600\n",
      "New current amount is 650\n",
      "650\n"
     ]
    }
   ],
   "source": [
    "# If tasks\n",
    "\n",
    "# Print the first 20 numbers which are divisible by 3 without a remainder using for loop and if\n",
    "\n",
    "for i in range ( 1, 21 ):\n",
    "    if i % 3 == 0:\n",
    "        print ( i )\n",
    "    if i  == 20:\n",
    "        break\n",
    "\n",
    "# Get the amount of the first 50 digits inclusive only if the new current amount is even\n",
    "\n",
    "current_amount = 0\n",
    "for i in range (1, 51):\n",
    "    current_amount += i\n",
    "    if current_amount % 2 == 0:\n",
    "        print (f'New current amount is {current_amount}')\n",
    "    else:\n",
    "        current_amount -= i\n",
    "print ( current_amount )\n",
    "\n",
    "\n"
   ]
  },
  {
   "cell_type": "code",
   "execution_count": 11,
   "metadata": {},
   "outputs": [
    {
     "name": "stdout",
     "output_type": "stream",
     "text": [
      " Product of 13 from 1 to 10 is 500260895221651200\n"
     ]
    }
   ],
   "source": [
    "# Let select a number, print its product from 1 to 10 only if the selected number squared is odd\n",
    "\n",
    "number = int (input ('Enter a number') )\n",
    "if number ** 2 % 2 != 0:\n",
    "    product = 1\n",
    "    for i in range (1, 11):\n",
    "        product *= number * i\n",
    "    print(f' Product of {number} from 1 to 10 is {product}')\n",
    "else:\n",
    "    print(f'{number} squared is not odd.')\n",
    "\n",
    "\n"
   ]
  },
  {
   "cell_type": "code",
   "execution_count": 21,
   "metadata": {},
   "outputs": [
    {
     "name": "stdout",
     "output_type": "stream",
     "text": [
      "[('Monday', 12), ('Monday', 13), ('Monday', 14), ('Monday', 15), ('Monday', 16), ('Monday', 17), ('Wednesday', 12), ('Wednesday', 13), ('Wednesday', 14), ('Wednesday', 15), ('Wednesday', 16), ('Wednesday', 17)]\n"
     ]
    }
   ],
   "source": [
    "# Get all possible combinations from these lists only if the day is either Monday or Wednesday and the hours are from 12 to 17, enter them in the list\n",
    "\n",
    "full_list = []\n",
    "days = ('Monday', 'Tuesday', 'Wednesday', 'Thursday', 'Friday', 'Saturday' , 'Sunday')\n",
    "hours = [10, 11, 12, 13, 14, 15, 16, 17, 18, 19]\n",
    "\n",
    "for day in days:\n",
    "    if day in ['Monday', 'Wednesday']:\n",
    "        for hour in hours:\n",
    "            if hour in range(12, 18):\n",
    "                full_list.append((day, hour))\n",
    "print( full_list )\n"
   ]
  },
  {
   "attachments": {},
   "cell_type": "markdown",
   "metadata": {},
   "source": [
    "# none, aka null, nill, NaN"
   ]
  },
  {
   "cell_type": "code",
   "execution_count": 22,
   "metadata": {},
   "outputs": [
    {
     "name": "stdout",
     "output_type": "stream",
     "text": [
      "None\n",
      "<class 'NoneType'>\n"
     ]
    }
   ],
   "source": [
    "nothing = None\n",
    "print ( nothing )\n",
    "print ( type ( nothing ) )"
   ]
  },
  {
   "cell_type": "code",
   "execution_count": 25,
   "metadata": {},
   "outputs": [
    {
     "name": "stdout",
     "output_type": "stream",
     "text": [
      "Hello Rokenzo!\n"
     ]
    }
   ],
   "source": [
    "import random\n",
    "\n",
    "name = ''\n",
    "\n",
    "if random.random() > 0.5:\n",
    "    name = input( 'Enter your name: ' )\n",
    "\n",
    "if name != '':\n",
    "    print(f'Hello {name}!')\n"
   ]
  },
  {
   "cell_type": "code",
   "execution_count": 31,
   "metadata": {},
   "outputs": [
    {
     "name": "stdout",
     "output_type": "stream",
     "text": [
      "We couldn't read your name. Please try again\n"
     ]
    }
   ],
   "source": [
    "import random\n",
    "\n",
    "name = None\n",
    "\n",
    "if random.random() > 0.5:\n",
    "    name = input('Enter your name:')\n",
    "\n",
    "if name is not None and name != '':\n",
    "    print(f'Hello {name}!')\n",
    "elif name is not None and name == '':\n",
    "    print(f'We couldn\\'t read your name. Please try again')\n",
    "else:\n",
    "    print('We didn\\'t ask for the name')"
   ]
  },
  {
   "attachments": {},
   "cell_type": "markdown",
   "metadata": {},
   "source": [
    "# Dictionary\n"
   ]
  },
  {
   "cell_type": "code",
   "execution_count": 34,
   "metadata": {},
   "outputs": [
    {
     "name": "stdout",
     "output_type": "stream",
     "text": [
      "{'name': 'Darius', 'surname': 'Grigaliunas', 'hobbies': ['tennis', 'football'], 'age': 265}\n",
      "{'name': 'Darius', 'surname': 'Grigaliunas', 'hobbies': ['tennis', 'football'], 'age': 265, 'country': 'Lithuania'}\n",
      "{'name': 'Darius', 'surname': 'Grigaliunas', 'hobbies': ['tennis', 'football'], 'age': 265, 'country': 'Denmark'}\n"
     ]
    }
   ],
   "source": [
    "me = {\n",
    "    'name': 'Darius',\n",
    "    'surname': 'Grigaliunas',\n",
    "    'hobbies': ['tennis', 'football'],\n",
    "    'age': 265\n",
    "}\n",
    "\n",
    "print(me)\n",
    "\n",
    "me['country'] = 'Lithuania'\n",
    "print(me)\n",
    "me['country'] = 'Denmark' #overwrites if the same \n",
    "print(me)"
   ]
  },
  {
   "attachments": {},
   "cell_type": "markdown",
   "metadata": {},
   "source": [
    "## deleting parts"
   ]
  },
  {
   "cell_type": "code",
   "execution_count": 35,
   "metadata": {},
   "outputs": [
    {
     "name": "stdout",
     "output_type": "stream",
     "text": [
      "{'name': 'Darius', 'surname': 'Grigaliunas', 'hobbies': ['tennis', 'football'], 'age': 265}\n",
      "265\n",
      "{'name': 'Darius', 'surname': 'Grigaliunas', 'hobbies': ['tennis', 'football']}\n"
     ]
    }
   ],
   "source": [
    "me = {\n",
    "    'name': 'Darius',\n",
    "    'surname': 'Grigaliunas',\n",
    "    'hobbies': ['tennis', 'football'],\n",
    "    'age': 265\n",
    "}\n",
    "\n",
    "print(me)\n",
    "print (me.pop('age'))\n",
    "print(me)"
   ]
  },
  {
   "cell_type": "code",
   "execution_count": 40,
   "metadata": {},
   "outputs": [
    {
     "name": "stdout",
     "output_type": "stream",
     "text": [
      "125\n"
     ]
    }
   ],
   "source": [
    "twitter_post = {\n",
    "  \"created_at\": \"Tue Feb 27 21:11:40 +0000 2018\",\n",
    "  \"id\": 968594506663669800,\n",
    "  \"id_str\": \"968594506663669760\",\n",
    "  \"text\": \"RT @honeydrop_506: 180222 ICN #백현 #BAEKHYUNnn나의 겨울과 너nn#iHeartAwards #BestFanArmy #EXOL @weareoneEXO https://t.co/hg7I3xAlBg\",\n",
    "  \"truncated\": False,\n",
    "  \"in_reply_to_status_id\": None,\n",
    "  \"in_reply_to_status_id_str\": None,\n",
    "  \"in_reply_to_user_id\": None,\n",
    "  \"in_reply_to_user_id_str\": None,\n",
    "  \"in_reply_to_screen_name\": None,\n",
    "  \"user\": {\n",
    "    \"id\": 4448809940,\n",
    "    \"id_str\": \"4448809940\",\n",
    "    \"name\": \"ayah\",\n",
    "    \"screen_name\": \"lovbyun\",\n",
    "    \"location\": \"bbh iu jjh pcy kjd dks\",\n",
    "    \"url\": \"https://curiouscat.me/baekhyun-l\",\n",
    "    \"description\": \"hi hello I love exo\",\n",
    "    \"translator_type\": \"none\",\n",
    "    \"protected\": False,\n",
    "    \"verified\": False,\n",
    "    \"followers_count\": 1142,\n",
    "    \"friends_count\": 125,\n",
    "    \"listed_count\": 20,\n",
    "    \"favourites_count\": 5712,\n",
    "    \"statuses_count\": 4011,\n",
    "    \"created_at\": \"Fri Dec 04 03:44:59 +0000 2015\",\n",
    "    \"utc_offset\": -28800,\n",
    "    \"time_zone\": \"Pacific Time (US & Canada)\",\n",
    "    \"geo_enabled\": False,\n",
    "    \"lang\": \"en\",\n",
    "    \"contributors_enabled\": False,\n",
    "    \"is_translator\": False,\n",
    "    \"profile_background_color\": \"000000\",\n",
    "    \"profile_background_image_url\": \"http://abs.twimg.com/images/themes/theme1/bg.png\",\n",
    "    \"profile_background_image_url_https\": \"https://abs.twimg.com/images/themes/theme1/bg.png\",\n",
    "    \"profile_background_tile\": False,\n",
    "    \"profile_link_color\": \"F58EA8\",\n",
    "    \"profile_sidebar_border_color\": \"000000\",\n",
    "    \"profile_sidebar_fill_color\": \"000000\",\n",
    "    \"profile_text_color\": \"000000\",\n",
    "    \"profile_use_background_image\": False,\n",
    "    \"profile_image_url\": \"http://pbs.twimg.com/profile_images/967130320259526656/0xZ-wxXJ_normal.jpg\",\n",
    "    \"profile_image_url_https\": \"https://pbs.twimg.com/profile_images/967130320259526656/0xZ-wxXJ_normal.jpg\",\n",
    "    \"profile_banner_url\": \"https://pbs.twimg.com/profile_banners/4448809940/1519340670\",\n",
    "    \"default_profile\": False,\n",
    "    \"default_profile_image\": False,\n",
    "    \"following\": None,\n",
    "    \"follow_request_sent\": None,\n",
    "    \"notifications\": None\n",
    "  },\n",
    "}\n",
    "\n",
    "\n",
    "print(twitter_post[\"user\"][\"friends_count\"])"
   ]
  }
 ],
 "metadata": {
  "kernelspec": {
   "display_name": "Python 3",
   "language": "python",
   "name": "python3"
  },
  "language_info": {
   "codemirror_mode": {
    "name": "ipython",
    "version": 3
   },
   "file_extension": ".py",
   "mimetype": "text/x-python",
   "name": "python",
   "nbconvert_exporter": "python",
   "pygments_lexer": "ipython3",
   "version": "3.10.4"
  },
  "orig_nbformat": 4,
  "vscode": {
   "interpreter": {
    "hash": "2aa6b29bd0df13d6c505b7d0ef75ff930ae2ba37db3b689bb404b082b4d5332c"
   }
  }
 },
 "nbformat": 4,
 "nbformat_minor": 2
}
