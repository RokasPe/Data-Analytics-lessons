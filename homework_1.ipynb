{
 "cells": [
  {
   "cell_type": "code",
   "execution_count": null,
   "metadata": {},
   "outputs": [],
   "source": [
    "# 1.1 Print the first 10 inclusive numbers using for loop.\n",
    "# 1.2 Get the sum of the first 50 numbers inclusive.\n",
    "\n",
    "# 2. Use Input() to select a number, print its product from 1 to 10 inclusive.\n",
    "\n",
    "# 3. Get all possible combinations from these lists, add them to a single list.\n",
    "# days = ('Monday', 'Tuesday', 'Wednesday', 'Thursday', 'Friday', 'Saturday' , 'Sunday')\n",
    "# hours = [10, 11, 12, 13, 14, 15, 16, 17, 18, 19]\n",
    "\n",
    "\n",
    "# Expected output: [ ('Monday', 10), ('Monday', 11),  ('Monday', 12)... ]"
   ]
  },
  {
   "cell_type": "code",
   "execution_count": 14,
   "metadata": {},
   "outputs": [
    {
     "name": "stdout",
     "output_type": "stream",
     "text": [
      "1\n",
      "2\n",
      "3\n",
      "4\n",
      "5\n",
      "6\n",
      "7\n",
      "8\n",
      "9\n",
      "10\n",
      "1275\n",
      "3628800\n",
      "[('Monday', 10), ('Monday', 11), ('Monday', 12), ('Monday', 13), ('Monday', 14), ('Monday', 15), ('Monday', 16), ('Monday', 17), ('Monday', 18), ('Monday', 19), ('Tuesday', 10), ('Tuesday', 11), ('Tuesday', 12), ('Tuesday', 13), ('Tuesday', 14), ('Tuesday', 15), ('Tuesday', 16), ('Tuesday', 17), ('Tuesday', 18), ('Tuesday', 19), ('Wednesday', 10), ('Wednesday', 11), ('Wednesday', 12), ('Wednesday', 13), ('Wednesday', 14), ('Wednesday', 15), ('Wednesday', 16), ('Wednesday', 17), ('Wednesday', 18), ('Wednesday', 19), ('Thursday', 10), ('Thursday', 11), ('Thursday', 12), ('Thursday', 13), ('Thursday', 14), ('Thursday', 15), ('Thursday', 16), ('Thursday', 17), ('Thursday', 18), ('Thursday', 19), ('Friday', 10), ('Friday', 11), ('Friday', 12), ('Friday', 13), ('Friday', 14), ('Friday', 15), ('Friday', 16), ('Friday', 17), ('Friday', 18), ('Friday', 19), ('Saturday', 10), ('Saturday', 11), ('Saturday', 12), ('Saturday', 13), ('Saturday', 14), ('Saturday', 15), ('Saturday', 16), ('Saturday', 17), ('Saturday', 18), ('Saturday', 19), ('Sunday', 10), ('Sunday', 11), ('Sunday', 12), ('Sunday', 13), ('Sunday', 14), ('Sunday', 15), ('Sunday', 16), ('Sunday', 17), ('Sunday', 18), ('Sunday', 19)]\n"
     ]
    }
   ],
   "source": [
    "# 1.1\n",
    "\n",
    "for i in range ( 1, 11 ):\n",
    "    print ( i )\n",
    "\n",
    "# 1.2\n",
    "\n",
    "amt = 0\n",
    "for i in range ( 1, 51 ):\n",
    "    amt += i\n",
    "print ( amt )\n",
    "\n",
    "# 2\n",
    "\n",
    "product = 1\n",
    "number = int ( input ( \"Please enter a number:\" ) )\n",
    "for i in range ( 1, 11 ):\n",
    "    product *= number * i\n",
    "print(product)\n",
    "\n",
    "# 3\n",
    "\n",
    "days = ('Monday', 'Tuesday', 'Wednesday', 'Thursday', 'Friday', 'Saturday' , 'Sunday')\n",
    "hours = [10, 11, 12, 13, 14, 15, 16, 17, 18, 19]\n",
    "\n",
    "combined = [ (day, hour) for day in days for hour in hours ]\n",
    "\n",
    "print ( combined )"
   ]
  }
 ],
 "metadata": {
  "kernelspec": {
   "display_name": "Python 3",
   "language": "python",
   "name": "python3"
  },
  "language_info": {
   "codemirror_mode": {
    "name": "ipython",
    "version": 3
   },
   "file_extension": ".py",
   "mimetype": "text/x-python",
   "name": "python",
   "nbconvert_exporter": "python",
   "pygments_lexer": "ipython3",
   "version": "3.10.4"
  },
  "orig_nbformat": 4,
  "vscode": {
   "interpreter": {
    "hash": "2aa6b29bd0df13d6c505b7d0ef75ff930ae2ba37db3b689bb404b082b4d5332c"
   }
  }
 },
 "nbformat": 4,
 "nbformat_minor": 2
}
