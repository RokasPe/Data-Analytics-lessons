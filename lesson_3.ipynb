{
 "cells": [
  {
   "attachments": {},
   "cell_type": "markdown",
   "metadata": {},
   "source": [
    "# List\n"
   ]
  },
  {
   "cell_type": "markdown",
   "metadata": {},
   "source": [
    "## append vs extend"
   ]
  },
  {
   "cell_type": "code",
   "execution_count": 9,
   "metadata": {},
   "outputs": [
    {
     "name": "stdout",
     "output_type": "stream",
     "text": [
      "[14, 786, 7]\n",
      "[14, 786, 7, 500]\n",
      "None\n",
      "[14, 786, 7, 500, 999, [100, 100]]\n",
      "[100, 100]\n",
      "extend\n",
      "[14, 786, 7, 500, 999, [100, 100], 500]\n",
      "[14, 786, 7, 500, 999, [100, 100], 500, 999, 888, 777]\n"
     ]
    }
   ],
   "source": [
    "numbers = [14, 786, 7]\n",
    "print(numbers)\n",
    "numbers.append( 500 )\n",
    "print(numbers)\n",
    "print (numbers.append( 999 ))\n",
    "\n",
    "numbers.append( [100, 100])\n",
    "print(numbers)\n",
    "print(numbers[-1])\n",
    "\n",
    "print('extend')\n",
    "numbers.extend([500])\n",
    "print(numbers)\n",
    "numbers.extend( [999, 888, 777] )\n",
    "print(numbers)\n"
   ]
  },
  {
   "cell_type": "code",
   "execution_count": 11,
   "metadata": {},
   "outputs": [
    {
     "name": "stdout",
     "output_type": "stream",
     "text": [
      "8\n",
      "888\n"
     ]
    }
   ],
   "source": [
    "print(numbers.index(888))\n",
    "print(numbers[8])"
   ]
  },
  {
   "cell_type": "code",
   "execution_count": 16,
   "metadata": {},
   "outputs": [
    {
     "name": "stdout",
     "output_type": "stream",
     "text": [
      "[7, 14, 500, 500, 777, 786, 888, 999, 999]\n",
      "[2, 4, 562, 778]\n",
      "[562, 4, 778, 2]\n"
     ]
    }
   ],
   "source": [
    "## numbers.remove([100, 100])\n",
    "numbers.sort()\n",
    "print(numbers)\n",
    "nums = [562, 4, 778, 2]\n",
    "print (sorted(nums) ) #keeps the original order afterwards\n",
    "print(nums)"
   ]
  },
  {
   "cell_type": "code",
   "execution_count": 24,
   "metadata": {},
   "outputs": [
    {
     "name": "stdout",
     "output_type": "stream",
     "text": [
      "['65']\n",
      "65\n"
     ]
    }
   ],
   "source": [
    "# print '65'\n",
    "nested_list = [654, [[[48, [['65']]], 57]]]\n",
    "print(nested_list[1][0][0][1][0])\n",
    "print(nested_list[1][0][0][1][0][0])"
   ]
  },
  {
   "cell_type": "code",
   "execution_count": 30,
   "metadata": {},
   "outputs": [
    {
     "name": "stdout",
     "output_type": "stream",
     "text": [
      "[7, 14, 500, 500, 777, 786, 888, 999, 999]\n",
      "[7, 500, 777, 888, 999]\n",
      "[7, 500, 888]\n",
      "[7, 777, 999]\n"
     ]
    }
   ],
   "source": [
    "print(numbers)\n",
    "print(numbers[::2]) # every 2nd value is displayed\n",
    "print(numbers[::3])\n",
    "print(numbers[::4])"
   ]
  },
  {
   "cell_type": "code",
   "execution_count": 31,
   "metadata": {},
   "outputs": [
    {
     "data": {
      "text/plain": [
       "True"
      ]
     },
     "execution_count": 31,
     "metadata": {},
     "output_type": "execute_result"
    }
   ],
   "source": [
    "14 in numbers"
   ]
  },
  {
   "cell_type": "code",
   "execution_count": 33,
   "metadata": {},
   "outputs": [
    {
     "name": "stdout",
     "output_type": "stream",
     "text": [
      "False\n",
      "True\n"
     ]
    }
   ],
   "source": [
    "print( bool ( [] ) )\n",
    "print( bool ( [1231245123] ) ) # if the list is empty, you will get false, otherwise you will get true."
   ]
  },
  {
   "cell_type": "markdown",
   "metadata": {},
   "source": [
    "# operators with list"
   ]
  },
  {
   "cell_type": "code",
   "execution_count": 37,
   "metadata": {},
   "outputs": [
    {
     "name": "stdout",
     "output_type": "stream",
     "text": [
      "[1, 2, 3, 'a', 'b', 'c']\n",
      "[1, 2, 3, 1, 2, 3, 1, 2, 3, 1, 2, 3, 1, 2, 3, 1, 2, 3, 1, 2, 3, 1, 2, 3, 1, 2, 3, 1, 2, 3]\n"
     ]
    }
   ],
   "source": [
    "print( [1, 2, 3] + ['a', 'b', 'c'] )\n",
    "print( [1, 2, 3] * 10 ) # repeats the same pattern for X times\n",
    "# print( [1, 2, 3] - [1, 2] ) subtraction is unsupported"
   ]
  },
  {
   "cell_type": "code",
   "execution_count": 52,
   "metadata": {},
   "outputs": [
    {
     "name": "stdout",
     "output_type": "stream",
     "text": [
      "3\n",
      "[1, 2, 3, 4]\n",
      "True\n",
      "False\n",
      "[1, 2, 3, 4, 5, 7, 6, 8]\n",
      "[1, 2, 3, 4, 5, 7, 6]\n",
      "[1, 2, 3, 4, 5, 6, 7]\n",
      "7\n",
      "1\n"
     ]
    }
   ],
   "source": [
    "# 1 \n",
    "x = [ 1, 2, 3 ]\n",
    "print ( len (x) )\n",
    "x.append(4)\n",
    "print ( x )\n",
    "# 2\n",
    "print ( 4 in x )\n",
    "print ( 5 in x )\n",
    "# 3\n",
    "y = [ 5, 7, 6, 8 ]\n",
    "z = x + y\n",
    "print ( z )\n",
    "z.remove ( len (z) )\n",
    "print ( z )\n",
    "\n",
    "z.sort()\n",
    "print ( z )\n",
    "\n",
    "print ( len (z) )\n",
    "print ( z.count(7) )\n"
   ]
  },
  {
   "attachments": {},
   "cell_type": "markdown",
   "metadata": {},
   "source": [
    "# Mutable and immutable variables\n"
   ]
  },
  {
   "cell_type": "code",
   "execution_count": 59,
   "metadata": {},
   "outputs": [
    {
     "name": "stdout",
     "output_type": "stream",
     "text": [
      "before\n",
      "1793876820208\n",
      "1793876820208\n",
      "after\n",
      "1793876820208\n",
      "1793876820368\n",
      "1\n",
      "6\n",
      "before\n",
      "1793980562496\n",
      "1793980562496\n",
      "after\n",
      "1793980562496\n",
      "1793980562496\n",
      "[1, 2, 3, 999]\n",
      "[1, 2, 3, 999]\n"
     ]
    }
   ],
   "source": [
    "# Immutable variable:\n",
    "a = 1\n",
    "b = a\n",
    "print ( 'before' )\n",
    "print ( id(a) )\n",
    "print ( id(b) )\n",
    "b += 5\n",
    "print ( 'after' )\n",
    "print ( id(a) )\n",
    "print ( id(b) )\n",
    "print ( a )\n",
    "print ( b )\n",
    "\n",
    "# mutable variable:\n",
    "a = [ 1, 2, 3 ]\n",
    "b = a\n",
    "print ( 'before' )\n",
    "print ( id(a) )\n",
    "print ( id(b) )\n",
    "b.append( 999)\n",
    "print ( 'after' )\n",
    "print ( id(a) )\n",
    "print ( id(b) )\n",
    "print ( a )\n",
    "print ( b )\n"
   ]
  },
  {
   "cell_type": "code",
   "execution_count": 60,
   "metadata": {},
   "outputs": [
    {
     "name": "stdout",
     "output_type": "stream",
     "text": [
      "before\n",
      "1793980830912\n",
      "1793980704960\n",
      "after\n",
      "1793980830912\n",
      "1793980704960\n",
      "[1, 2, 3]\n",
      "[1, 2, 3, 999]\n"
     ]
    }
   ],
   "source": [
    "# fixing mutable variable #1\n",
    "a = [ 1, 2, 3 ]\n",
    "b = a.copy()\n",
    "print ( 'before' )\n",
    "print ( id(a) )\n",
    "print ( id(b) )\n",
    "b.append( 999)\n",
    "print ( 'after' )\n",
    "print ( id(a) )\n",
    "print ( id(b) )\n",
    "print ( a )\n",
    "print ( b )"
   ]
  },
  {
   "cell_type": "code",
   "execution_count": 61,
   "metadata": {},
   "outputs": [
    {
     "name": "stdout",
     "output_type": "stream",
     "text": [
      "before\n",
      "1793980774528\n",
      "1793980707584\n",
      "after\n",
      "1793980774528\n",
      "1793980707584\n",
      "[1, 2, ['a', 'b', 999]]\n",
      "[1, 2, ['a', 'b', 999], 999]\n"
     ]
    }
   ],
   "source": [
    "# where #1 fix doesn't work\n",
    "a = [ 1, 2, ['a', 'b'] ]\n",
    "b = a.copy()\n",
    "print ( 'before' )\n",
    "print ( id(a) )\n",
    "print ( id(b) )\n",
    "b[-1].append ( 999)\n",
    "b.append( 999)\n",
    "print ( 'after' )\n",
    "print ( id(a) )\n",
    "print ( id(b) )\n",
    "print ( a )\n",
    "print ( b )"
   ]
  },
  {
   "cell_type": "code",
   "execution_count": 62,
   "metadata": {},
   "outputs": [
    {
     "name": "stdout",
     "output_type": "stream",
     "text": [
      "before\n",
      "1793980508160\n",
      "1793980755520\n",
      "after\n",
      "1793980508160\n",
      "1793980755520\n",
      "[1, 2, ['a', 'b']]\n",
      "[1, 2, ['a', 'b', 999], 999]\n"
     ]
    }
   ],
   "source": [
    "# fixing mutable variable #2\n",
    "import copy\n",
    "a = [ 1, 2, ['a', 'b'] ]\n",
    "b = copy.deepcopy(a)\n",
    "print ( 'before' )\n",
    "print ( id(a) )\n",
    "print ( id(b) )\n",
    "b[-1].append ( 999 )\n",
    "b.append( 999 )\n",
    "print ( 'after' )\n",
    "print ( id(a) )\n",
    "print ( id(b) )\n",
    "print ( a )\n",
    "print ( b )"
   ]
  },
  {
   "attachments": {},
   "cell_type": "markdown",
   "metadata": {},
   "source": [
    "# tuple"
   ]
  },
  {
   "cell_type": "code",
   "execution_count": 65,
   "metadata": {},
   "outputs": [
    {
     "name": "stdout",
     "output_type": "stream",
     "text": [
      "<class 'tuple'>\n",
      "(1, 2, True, 'a')\n"
     ]
    }
   ],
   "source": [
    "my_tuple = ( 1, 2, True, 'a' )\n",
    "print( type ( my_tuple ) )\n",
    "print( my_tuple )\n",
    "\n",
    "my_list_2 = [1, 2]\n"
   ]
  },
  {
   "cell_type": "code",
   "execution_count": 114,
   "metadata": {},
   "outputs": [
    {
     "name": "stdout",
     "output_type": "stream",
     "text": [
      "8\n",
      "(11, [222, 33], 44, 55)\n",
      "(11, [222, 22], 44, 55)\n",
      "(1, 2, 3, 8, 5, 1)\n",
      "[1, 2, 3, 8, 5, 1]\n",
      "[1, 2, 3, 8, 5]\n",
      "(1, 2, 3, 8, 5)\n",
      "[1, 2, 3, 5, 8]\n",
      "1\n",
      "8\n",
      "8\n"
     ]
    }
   ],
   "source": [
    "my_tuple = (1, 2, ['3', 4, 5], [6 , [ 7, (8) ] ] )\n",
    "print(my_tuple[3][1][1])\n",
    "\n",
    "tuple1 = (11, [222, 33], 44, 55)\n",
    "list(tuple1)\n",
    "print(tuple1)\n",
    "tuple1[1][1] = 22\n",
    "print(tuple(list(tuple1)))\n",
    "\n",
    "combined_tuple = (1, 2, 3) + (8 , 5 , 1)\n",
    "print(combined_tuple)\n",
    "tmp_list = list(combined_tuple)\n",
    "print(tmp_list)\n",
    "tmp_list.pop()\n",
    "print(tmp_list)\n",
    "combined_tuple = tuple (tmp_list)\n",
    "print( combined_tuple )\n",
    "print ( sorted(combined_tuple))\n",
    "print (combined_tuple.count(5))\n",
    "\n",
    "print ( sorted(combined_tuple)[-1])\n",
    "print ( max (combined_tuple) )\n",
    "\n",
    "\n"
   ]
  },
  {
   "attachments": {},
   "cell_type": "markdown",
   "metadata": {},
   "source": [
    "# Range declaration"
   ]
  },
  {
   "cell_type": "code",
   "execution_count": 120,
   "metadata": {},
   "outputs": [
    {
     "name": "stdout",
     "output_type": "stream",
     "text": [
      "range(0, 10)\n",
      "<class 'range'>\n",
      "[0, 1, 2, 3, 4, 5, 6, 7, 8, 9]\n",
      "[-4, -3, -2, -1, 0, 1, 2, 3, 4, 5, 6, 7, 8, 9]\n",
      "[-4, -1, 2, 5, 8]\n"
     ]
    }
   ],
   "source": [
    "print ( range (10) )\n",
    "print ( type (range(10) ) )\n",
    "print ( list ( range (10) ) )\n",
    "print ( list (range(-4, 10) ) )\n",
    "print ( list (range(-4, 10, 3) ) )"
   ]
  },
  {
   "cell_type": "code",
   "execution_count": null,
   "metadata": {},
   "outputs": [],
   "source": []
  }
 ],
 "metadata": {
  "kernelspec": {
   "display_name": "Python 3",
   "language": "python",
   "name": "python3"
  },
  "language_info": {
   "codemirror_mode": {
    "name": "ipython",
    "version": 3
   },
   "file_extension": ".py",
   "mimetype": "text/x-python",
   "name": "python",
   "nbconvert_exporter": "python",
   "pygments_lexer": "ipython3",
   "version": "3.10.4"
  },
  "orig_nbformat": 4,
  "vscode": {
   "interpreter": {
    "hash": "2aa6b29bd0df13d6c505b7d0ef75ff930ae2ba37db3b689bb404b082b4d5332c"
   }
  }
 },
 "nbformat": 4,
 "nbformat_minor": 2
}
