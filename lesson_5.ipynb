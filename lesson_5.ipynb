{
 "cells": [
  {
   "cell_type": "markdown",
   "metadata": {},
   "source": [
    "## List comprehensions"
   ]
  },
  {
   "cell_type": "code",
   "execution_count": 1,
   "metadata": {},
   "outputs": [
    {
     "name": "stdout",
     "output_type": "stream",
     "text": [
      "[3, 6, 9, 12, 15, 18]\n"
     ]
    }
   ],
   "source": [
    "numbers = list(range(1,21))\n",
    "dividible_by_3 =[]\n",
    "for number in numbers:\n",
    "    if number % 3 == 0:\n",
    "        dividible_by_3.append(number)\n",
    "        #print(number)\n",
    "print(dividible_by_3)"
   ]
  },
  {
   "cell_type": "code",
   "execution_count": null,
   "metadata": {},
   "outputs": [],
   "source": [
    "dividible_by_3 = [number for number in numbers if number % 3 == 0 ]\n",
    "print (dividible_by_3)"
   ]
  },
  {
   "attachments": {},
   "cell_type": "markdown",
   "metadata": {},
   "source": [
    "## SET"
   ]
  },
  {
   "cell_type": "code",
   "execution_count": 2,
   "metadata": {},
   "outputs": [
    {
     "name": "stdout",
     "output_type": "stream",
     "text": [
      "{'a', 1, 2, 3, 100, 4, 'c', 'b'}\n"
     ]
    }
   ],
   "source": [
    "my_set = {100, 1, 2, 3, 4, 1, 1, 1, 1, 1, 'a', 'b', 'c', 'c'}\n",
    "print(my_set)"
   ]
  },
  {
   "cell_type": "code",
   "execution_count": 5,
   "metadata": {},
   "outputs": [
    {
     "name": "stdout",
     "output_type": "stream",
     "text": [
      "{'a', 1, 2, 3, 100, 4, 'c', 'b'}\n",
      "{'a', 1, 2, 3, 100, 4, 5, 'c', 'b'}\n",
      "{'a', 1, 2, 3, 100, 4, 5, 200, 300, 'c', 'b'}\n"
     ]
    }
   ],
   "source": [
    "my_set = {1, 2, 3, 100, 4, 'a', 'c', 'b'}\n",
    "print(my_set)\n",
    "my_set.add(1)\n",
    "my_set.add(5)\n",
    "print(my_set)\n",
    "my_set.update( [100, 200, 300] )\n",
    "print(my_set)"
   ]
  },
  {
   "cell_type": "code",
   "execution_count": 7,
   "metadata": {},
   "outputs": [
    {
     "name": "stdout",
     "output_type": "stream",
     "text": [
      "{('new_value', 5), 'apple', 'banana', 'cherry'}\n"
     ]
    }
   ],
   "source": [
    "fruits = {\"apple\", \"banana\", \"cherry\"}\n",
    "\n",
    "fruits.add((\"new_value\", 5))\n",
    "\n",
    "print(fruits)"
   ]
  },
  {
   "cell_type": "code",
   "execution_count": 8,
   "metadata": {},
   "outputs": [
    {
     "name": "stdout",
     "output_type": "stream",
     "text": [
      "{'banana', 'watermelon', 'cherry'}\n"
     ]
    }
   ],
   "source": [
    "fruits = {\"apple\", \"banana\", \"cherry\"}\n",
    "\n",
    "fruits.discard(\"apple\")\n",
    "fruits.add(\"watermelon\")\n",
    "\n",
    "print(fruits)"
   ]
  },
  {
   "cell_type": "code",
   "execution_count": 14,
   "metadata": {},
   "outputs": [
    {
     "name": "stdout",
     "output_type": "stream",
     "text": [
      "{'melon', 'pear', 'dragonfruit', 'banana', 'cherry', 'apple', 'watermelon'}\n",
      "{'melon', 'pear', 'dragonfruit', 'banana', 'cherry', 'watermelon'}\n",
      "6\n",
      "{'melon', 'pear', 'dragonfruit', 'banana', 'cherry', 'watermelon'}\n",
      "6\n"
     ]
    }
   ],
   "source": [
    "fruits = {\"apple\", \"banana\", \"cherry\"}\n",
    "\n",
    "fruits.add(\"watermelon\")\n",
    "fruits.update([\"melon\", \"pear\", \"dragonfruit\"])\n",
    "\n",
    "print(fruits)\n",
    "\n",
    "fruits.remove(\"apple\")\n",
    "print(fruits)\n",
    "\n",
    "print(len(fruits))\n",
    "fruits.add(\"banana\")\n",
    "print(fruits)\n",
    "print(len(fruits))"
   ]
  },
  {
   "cell_type": "code",
   "execution_count": 33,
   "metadata": {},
   "outputs": [
    {
     "name": "stdout",
     "output_type": "stream",
     "text": [
      "there once was a ship that put to sea\n",
      " name of  ship was  billy o tea\n",
      " winds blew up her bow dipped down\n",
      "oh blow my bully boys blow huh\n",
      "soon may  wellerman come\n",
      "to bring us sugar and tea and rum\n",
      "one day when  tonguing is done\n",
      "well take our leave and go\n",
      "shed not been two weeks from shore\n",
      "when down on her a right whale bore\n",
      " captain called all hands and swore\n",
      "hed take that whale in tow huh\n",
      "soon may  wellerman come\n",
      "to bring us sugar and tea and rum\n",
      "one day when  tonguing is done\n",
      "well take our leave and go\n",
      "da-da-da-da-da\n",
      "da-da-da-da-da-da-da\n",
      "da-da-da-da-da-da-da-da-da-da-da\n",
      "before  boat had hit  water\n",
      " whales tail came up and caught her\n",
      "all hands to  side harpooned and fought her\n",
      "when she dived down low huh\n",
      "soon may  wellerman come\n",
      "to bring us sugar and tea and rum\n",
      "one day when  tonguing is done\n",
      "well take our leave and go\n",
      "no line was cut no whale was freed\n",
      " captains mind was not of greed\n",
      "and he belonged to  whalemans creed\n",
      "she took that ship in tow huh\n",
      "soon may  wellerman come\n",
      "to bring us sugar and tea and rum\n",
      "one day when  tonguing is done\n",
      "well take our leave and go\n",
      "da-da-da-da-da\n",
      "da-da-da-da-da-da-da\n",
      "da-da-da-da-da-da-da-da-da-da-da\n",
      "for forty days or even more\n",
      " line went slack then tight once more\n",
      "all boats were lost there were only four\n",
      "but still that whale did go huh\n",
      "soon may  wellerman come\n",
      "to bring us sugar and tea and rum\n",
      "one day when  tonguing is done\n",
      "well take our leave and go\n",
      "as far as ive heard  fights still on\n",
      " lines not cut and  whales not gone\n",
      " wellerman makes his regular call\n",
      "to encourage  captain crew and all huh\n",
      "soon may  wellerman come\n",
      "to bring us sugar and tea and rum\n",
      "one day when  tonguing is done\n",
      "well take our leave and go\n",
      "soon may  wellerman come\n",
      "to bring us sugar and tea and rum\n",
      "one day when  tonguing is done\n",
      "well take our leave and go\n"
     ]
    }
   ],
   "source": [
    "lyrics = \"\"\"There once was a ship that put to sea\n",
    "The name of the ship was the Billy O' Tea\n",
    "The winds blew up, her bow dipped down\n",
    "Oh blow, my bully boys, blow (huh)\n",
    "Soon may the Wellerman come\n",
    "To bring us sugar and tea and rum\n",
    "One day, when the tonguing is done\n",
    "We'll take our leave and go\n",
    "She'd not been two weeks from shore\n",
    "When down on her a right whale bore\n",
    "The captain called all hands and swore\n",
    "He'd take that whale in tow (huh)\n",
    "Soon may the Wellerman come\n",
    "To bring us sugar and tea and rum\n",
    "One day, when the tonguing is done\n",
    "We'll take our leave and go\n",
    "Da-da-da-da-da\n",
    "Da-da-da-da-da-da-da\n",
    "Da-da-da-da-da-da-da-da-da-da-da\n",
    "Before the boat had hit the water\n",
    "The whale's tail came up and caught her\n",
    "All hands to the side, harpooned and fought her\n",
    "When she dived down low (huh)\n",
    "Soon may the Wellerman come\n",
    "To bring us sugar and tea and rum\n",
    "One day, when the tonguing is done\n",
    "We'll take our leave and go\n",
    "No line was cut, no whale was freed\n",
    "The captain's mind was not of greed\n",
    "And he belonged to the Whaleman's creed\n",
    "She took that ship in tow (huh)\n",
    "Soon may the Wellerman come\n",
    "To bring us sugar and tea and rum\n",
    "One day, when the tonguing is done\n",
    "We'll take our leave and go\n",
    "Da-da-da-da-da\n",
    "Da-da-da-da-da-da-da\n",
    "Da-da-da-da-da-da-da-da-da-da-da\n",
    "For forty days or even more\n",
    "The line went slack then tight once more\n",
    "All boats were lost, there were only four\n",
    "But still that whale did go (huh)\n",
    "Soon may the Wellerman come\n",
    "To bring us sugar and tea and rum\n",
    "One day, when the tonguing is done\n",
    "We'll take our leave and go\n",
    "As far as I've heard, the fight's still on\n",
    "The line's not cut, and the whale's not gone\n",
    "The Wellerman makes his regular call\n",
    "To encourage the captain, crew and all (huh)\n",
    "Soon may the Wellerman come\n",
    "To bring us sugar and tea and rum\n",
    "One day, when the tonguing is done\n",
    "We'll take our leave and go\n",
    "Soon may the Wellerman come\n",
    "To bring us sugar and tea and rum\n",
    "One day, when the tonguing is done\n",
    "We'll take our leave and go\"\"\"\n",
    "\n",
    "fix_song = lyrics.lower().replace('the ', ' ').replace('\\'','').replace('\"','').replace('?','').replace('!','').replace(',','').replace(',','').replace('(','').replace(')','')\n",
    "print(fix_song)\n",
    "\n"
   ]
  },
  {
   "cell_type": "code",
   "execution_count": 36,
   "metadata": {},
   "outputs": [
    {
     "name": "stdout",
     "output_type": "stream",
     "text": [
      "['there', 'once', 'was', 'a', 'ship', 'that', 'put', 'to', 'sea\\n', 'name', 'of', '', 'ship', 'was', '', 'billy', 'o', 'tea\\n', 'winds', 'blew', 'up', 'her', 'bow', 'dipped', 'down\\noh', 'blow', 'my', 'bully', 'boys', 'blow', 'huh\\nsoon', 'may', '', 'wellerman', 'come\\nto', 'bring', 'us', 'sugar', 'and', 'tea', 'and', 'rum\\none', 'day', 'when', '', 'tonguing', 'is', 'done\\nwell', 'take', 'our', 'leave', 'and', 'go\\nshed', 'not', 'been', 'two', 'weeks', 'from', 'shore\\nwhen', 'down', 'on', 'her', 'a', 'right', 'whale', 'bore\\n', 'captain', 'called', 'all', 'hands', 'and', 'swore\\nhed', 'take', 'that', 'whale', 'in', 'tow', 'huh\\nsoon', 'may', '', 'wellerman', 'come\\nto', 'bring', 'us', 'sugar', 'and', 'tea', 'and', 'rum\\none', 'day', 'when', '', 'tonguing', 'is', 'done\\nwell', 'take', 'our', 'leave', 'and', 'go\\nda-da-da-da-da\\nda-da-da-da-da-da-da\\nda-da-da-da-da-da-da-da-da-da-da\\nbefore', '', 'boat', 'had', 'hit', '', 'water\\n', 'whales', 'tail', 'came', 'up', 'and', 'caught', 'her\\nall', 'hands', 'to', '', 'side', 'harpooned', 'and', 'fought', 'her\\nwhen', 'she', 'dived', 'down', 'low', 'huh\\nsoon', 'may', '', 'wellerman', 'come\\nto', 'bring', 'us', 'sugar', 'and', 'tea', 'and', 'rum\\none', 'day', 'when', '', 'tonguing', 'is', 'done\\nwell', 'take', 'our', 'leave', 'and', 'go\\nno', 'line', 'was', 'cut', 'no', 'whale', 'was', 'freed\\n', 'captains', 'mind', 'was', 'not', 'of', 'greed\\nand', 'he', 'belonged', 'to', '', 'whalemans', 'creed\\nshe', 'took', 'that', 'ship', 'in', 'tow', 'huh\\nsoon', 'may', '', 'wellerman', 'come\\nto', 'bring', 'us', 'sugar', 'and', 'tea', 'and', 'rum\\none', 'day', 'when', '', 'tonguing', 'is', 'done\\nwell', 'take', 'our', 'leave', 'and', 'go\\nda-da-da-da-da\\nda-da-da-da-da-da-da\\nda-da-da-da-da-da-da-da-da-da-da\\nfor', 'forty', 'days', 'or', 'even', 'more\\n', 'line', 'went', 'slack', 'then', 'tight', 'once', 'more\\nall', 'boats', 'were', 'lost', 'there', 'were', 'only', 'four\\nbut', 'still', 'that', 'whale', 'did', 'go', 'huh\\nsoon', 'may', '', 'wellerman', 'come\\nto', 'bring', 'us', 'sugar', 'and', 'tea', 'and', 'rum\\none', 'day', 'when', '', 'tonguing', 'is', 'done\\nwell', 'take', 'our', 'leave', 'and', 'go\\nas', 'far', 'as', 'ive', 'heard', '', 'fights', 'still', 'on\\n', 'lines', 'not', 'cut', 'and', '', 'whales', 'not', 'gone\\n', 'wellerman', 'makes', 'his', 'regular', 'call\\nto', 'encourage', '', 'captain', 'crew', 'and', 'all', 'huh\\nsoon', 'may', '', 'wellerman', 'come\\nto', 'bring', 'us', 'sugar', 'and', 'tea', 'and', 'rum\\none', 'day', 'when', '', 'tonguing', 'is', 'done\\nwell', 'take', 'our', 'leave', 'and', 'go\\nsoon', 'may', '', 'wellerman', 'come\\nto', 'bring', 'us', 'sugar', 'and', 'tea', 'and', 'rum\\none', 'day', 'when', '', 'tonguing', 'is', 'done\\nwell', 'take', 'our', 'leave', 'and', 'go']\n",
      "{'or', 'bring', 'tight', 'makes', 'as', 'boys', 'low', 'blow', 'my', 'billy', 'name', 'tail', 'o', 'put', 'cut', 'to', 'no', 'whale', 'mind', 'go', 'a', 'take', 'swore\\nhed', 'line', 'captains', 'forty', 'regular', 'had', 'go\\nno', 'fought', 'harpooned', 'go\\nshed', 'boat', 'go\\nsoon', 'were', 'sea\\n', 'sugar', 'creed\\nshe', 'all', 'side', 'rum\\none', 'in', 'not', 'he', 'whalemans', 'hit', 'huh\\nsoon', 'go\\nda-da-da-da-da\\nda-da-da-da-da-da-da\\nda-da-da-da-da-da-da-da-da-da-da\\nfor', 'boats', 'was', 'went', 'lines', 'winds', 'far', 'hands', 'our', 'tow', 'wellerman', 'down\\noh', 'she', 'leave', 'two', 'once', 'his', 'her\\nwhen', 'more\\n', 'days', 'only', 'her', 'freed\\n', 'blew', 'lost', 'shore\\nwhen', 'us', 'came', 'even', 'from', 'that', 'bow', 'on\\n', 'slack', 'is', 'done\\nwell', 'captain', 'and', 'on', 'been', 'did', 'dipped', 'her\\nall', 'when', 'go\\nas', 'encourage', 'of', 'bully', 'took', 'still', 'right', 'fights', 'tea\\n', 'belonged', 'go\\nda-da-da-da-da\\nda-da-da-da-da-da-da\\nda-da-da-da-da-da-da-da-da-da-da\\nbefore', 'ive', 'tonguing', 'day', 'crew', 'bore\\n', 'come\\nto', 'caught', 'weeks', 'more\\nall', 'then', 'heard', 'up', 'greed\\nand', 'there', 'water\\n', 'tea', 'gone\\n', 'four\\nbut', 'down', 'whales', 'dived', 'called', 'ship', 'call\\nto', 'may'}\n",
      "127\n"
     ]
    }
   ],
   "source": [
    "words = fix_song.split(' ')\n",
    "print(words)\n",
    "unique_words = set(words)\n",
    "unique_words.discard('')\n",
    "print(unique_words)\n",
    "print(len(unique_words))"
   ]
  },
  {
   "cell_type": "code",
   "execution_count": 37,
   "metadata": {},
   "outputs": [
    {
     "ename": "TypeError",
     "evalue": "unhashable type: 'set'",
     "output_type": "error",
     "traceback": [
      "\u001b[1;31m---------------------------------------------------------------------------\u001b[0m",
      "\u001b[1;31mTypeError\u001b[0m                                 Traceback (most recent call last)",
      "Cell \u001b[1;32mIn[37], line 3\u001b[0m\n\u001b[0;32m      1\u001b[0m counts \u001b[39m=\u001b[39m {}\n\u001b[0;32m      2\u001b[0m \u001b[39mfor\u001b[39;00m unique_word \u001b[39min\u001b[39;00m unique_words:\n\u001b[1;32m----> 3\u001b[0m     counts[unique_words] \u001b[39m=\u001b[39m words\u001b[39m.\u001b[39mcount(unique_word)\n\u001b[0;32m      4\u001b[0m \u001b[39mprint\u001b[39m(counts)\n",
      "\u001b[1;31mTypeError\u001b[0m: unhashable type: 'set'"
     ]
    }
   ],
   "source": []
  }
 ],
 "metadata": {
  "kernelspec": {
   "display_name": "Python 3",
   "language": "python",
   "name": "python3"
  },
  "language_info": {
   "codemirror_mode": {
    "name": "ipython",
    "version": 3
   },
   "file_extension": ".py",
   "mimetype": "text/x-python",
   "name": "python",
   "nbconvert_exporter": "python",
   "pygments_lexer": "ipython3",
   "version": "3.10.4"
  },
  "orig_nbformat": 4
 },
 "nbformat": 4,
 "nbformat_minor": 2
}
